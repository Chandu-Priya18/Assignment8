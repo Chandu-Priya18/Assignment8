{
  "nbformat": 4,
  "nbformat_minor": 0,
  "metadata": {
    "colab": {
      "name": "Assignment8",
      "provenance": [],
      "collapsed_sections": []
    },
    "kernelspec": {
      "name": "python3",
      "display_name": "Python 3"
    }
  },
  "cells": [
    {
      "cell_type": "code",
      "metadata": {
        "id": "XAQ6FDxi010V",
        "colab_type": "code",
        "colab": {
          "base_uri": "https://localhost:8080/",
          "height": 51
        },
        "outputId": "9ecffbac-ff6e-40c7-f9af-27791e8651b1"
      },
      "source": [
        "# 1)python program to calculate the length of a string\n",
        "str = input(\"Enter a string: \")\n",
        "counter = 0\n",
        "for s in str:\n",
        "      counter = counter+1\n",
        "print(\"Length of the input string is:\", counter)"
      ],
      "execution_count": 1,
      "outputs": [
        {
          "output_type": "stream",
          "text": [
            "Enter a string: Kyungsoo\n",
            "Length of the input string is: 8\n"
          ],
          "name": "stdout"
        }
      ]
    },
    {
      "cell_type": "code",
      "metadata": {
        "id": "w-v6xPzS094B",
        "colab_type": "code",
        "colab": {
          "base_uri": "https://localhost:8080/",
          "height": 51
        },
        "outputId": "f36b6e40-d7d1-4a58-fa6a-5d828d523a2c"
      },
      "source": [
        "# 2)python program to count the number of characters in a string\n",
        "input_string = \"Data Science\"\n",
        "frequencies = {} \n",
        "for char in input_string: \n",
        "    if char in frequencies: \n",
        "        frequencies[char] += 1\n",
        "    else: \n",
        "        frequencies[char] = 1\n",
        "print (\"Per char frequency in '{}' is :\\n {}\".format(input_string, (frequencies)))"
      ],
      "execution_count": 2,
      "outputs": [
        {
          "output_type": "stream",
          "text": [
            "Per char frequency in 'Data Science' is :\n",
            " {'D': 1, 'a': 2, 't': 1, ' ': 1, 'S': 1, 'c': 2, 'i': 1, 'e': 2, 'n': 1}\n"
          ],
          "name": "stdout"
        }
      ]
    },
    {
      "cell_type": "code",
      "metadata": {
        "id": "Csi1Og-z1Hj3",
        "colab_type": "code",
        "colab": {
          "base_uri": "https://localhost:8080/",
          "height": 34
        },
        "outputId": "9da825f6-b208-4ea8-fb54-547e92f6f10f"
      },
      "source": [
        "# 3)python program to get a single string from two given strings,seperated by a space and swap the first two characters \n",
        "def chars_mix_up(a, b):\n",
        "    new_a = b[:2] + a[2:]\n",
        "    new_b = a[:2] + b[2:]\n",
        "\n",
        "    return new_a + ' ' + new_b\n",
        "print(chars_mix_up('abc', 'xyz'))"
      ],
      "execution_count": 3,
      "outputs": [
        {
          "output_type": "stream",
          "text": [
            "xyc abz\n"
          ],
          "name": "stdout"
        }
      ]
    },
    {
      "cell_type": "code",
      "metadata": {
        "id": "GRfAIT8M1NK0",
        "colab_type": "code",
        "colab": {
          "base_uri": "https://localhost:8080/",
          "height": 68
        },
        "outputId": "ea5adc6c-135e-4be0-9257-0ded04d3198d"
      },
      "source": [
        "# 4)python program to takes input from the user and display the input back in upper & lower cases\n",
        "user_input = input(\"Which is your favourite pet? \")\n",
        "print(\"My favourite pet is \", user_input.upper())\n",
        "print(\"My favourite pet is \", user_input.lower())"
      ],
      "execution_count": 4,
      "outputs": [
        {
          "output_type": "stream",
          "text": [
            "Which is your favourite pet? Horse\n",
            "My favourite pet is  HORSE\n",
            "My favourite pet is  horse\n"
          ],
          "name": "stdout"
        }
      ]
    },
    {
      "cell_type": "code",
      "metadata": {
        "id": "_7pjaMlz1Swa",
        "colab_type": "code",
        "colab": {
          "base_uri": "https://localhost:8080/",
          "height": 68
        },
        "outputId": "ffd6b638-0dab-4152-e438-208cfabd3479"
      },
      "source": [
        "# 5)python program to remove a newline in python\n",
        "str1='Python Assignment-8\\n'\n",
        "print(str1)\n",
        "print(str1.rstrip())"
      ],
      "execution_count": 5,
      "outputs": [
        {
          "output_type": "stream",
          "text": [
            "Python Assignment-8\n",
            "\n",
            "Python Assignment-8\n"
          ],
          "name": "stdout"
        }
      ]
    },
    {
      "cell_type": "code",
      "metadata": {
        "id": "hlD8soID1Zpf",
        "colab_type": "code",
        "colab": {
          "base_uri": "https://localhost:8080/",
          "height": 68
        },
        "outputId": "833fcef6-a0b0-4eeb-dd64-dc8ecc8b8d39"
      },
      "source": [
        "# 6)python program to count occurrences of a substring in a string \n",
        "str1 = 'The elder brother fight with younger sister.'\n",
        "print()\n",
        "print(str1.count(\"brother\"))\n",
        "print()"
      ],
      "execution_count": 6,
      "outputs": [
        {
          "output_type": "stream",
          "text": [
            "\n",
            "1\n",
            "\n"
          ],
          "name": "stdout"
        }
      ]
    },
    {
      "cell_type": "code",
      "metadata": {
        "id": "-BACMiuG1eGB",
        "colab_type": "code",
        "colab": {
          "base_uri": "https://localhost:8080/",
          "height": 34
        },
        "outputId": "fbccc30e-77c3-4359-e952-036a21e243a1"
      },
      "source": [
        "# 7)python program to convert a string in a list\n",
        "def Convert(string): \n",
        "    li = list(string.split(\" \")) \n",
        "    return li     \n",
        "str1 = \"i want chocolates and icecream\"\n",
        "print(Convert(str1))"
      ],
      "execution_count": 7,
      "outputs": [
        {
          "output_type": "stream",
          "text": [
            "['i', 'want', 'chocolates', 'and', 'icecream']\n"
          ],
          "name": "stdout"
        }
      ]
    },
    {
      "cell_type": "code",
      "metadata": {
        "id": "QfvMqG1a1iDU",
        "colab_type": "code",
        "colab": {
          "base_uri": "https://localhost:8080/",
          "height": 119
        },
        "outputId": "aff4002f-e18f-4f19-a94a-4ad3b3ce9a25"
      },
      "source": [
        "# 8)python program to perform deletion of a character \n",
        "def remove_char(str, n):\n",
        "      first_part = str[:n] \n",
        "      last_part = str[n+1:]\n",
        "      return first_part + last_part\n",
        "print(remove_char('Python', 0))\n",
        "print(remove_char('Python', 1))\n",
        "print(remove_char('Python', 2))\n",
        "print(remove_char('Python', 3))\n",
        "print(remove_char('Python', 4))\n",
        "print(remove_char('Python', 5))"
      ],
      "execution_count": 8,
      "outputs": [
        {
          "output_type": "stream",
          "text": [
            "ython\n",
            "Pthon\n",
            "Pyhon\n",
            "Pyton\n",
            "Pythn\n",
            "Pytho\n"
          ],
          "name": "stdout"
        }
      ]
    },
    {
      "cell_type": "code",
      "metadata": {
        "id": "qssVMPw41nt8",
        "colab_type": "code",
        "colab": {
          "base_uri": "https://localhost:8080/",
          "height": 170
        },
        "outputId": "857f6568-229c-4e09-f28e-9cf8d6e41995"
      },
      "source": [
        "# 9)python program to print every character of a string entered by user in a new line using loop\n",
        "word=\"helloword\"\n",
        "for index,letter in enumerate(word,1):\n",
        "    print(index,\":\",letter)"
      ],
      "execution_count": 9,
      "outputs": [
        {
          "output_type": "stream",
          "text": [
            "1 : h\n",
            "2 : e\n",
            "3 : l\n",
            "4 : l\n",
            "5 : o\n",
            "6 : w\n",
            "7 : o\n",
            "8 : r\n",
            "9 : d\n"
          ],
          "name": "stdout"
        }
      ]
    },
    {
      "cell_type": "code",
      "metadata": {
        "id": "x9Vxrq2g1sbQ",
        "colab_type": "code",
        "colab": {
          "base_uri": "https://localhost:8080/",
          "height": 34
        },
        "outputId": "97986ddf-686b-47fd-81e8-f58df9045cb2"
      },
      "source": [
        "# 10)python program to find the length of the string \"refrigerator\" without using len function\n",
        "a=\"refrigeretor\"\n",
        "count=0\n",
        "for i in a:\n",
        "    count=count+1\n",
        "print(count)"
      ],
      "execution_count": 10,
      "outputs": [
        {
          "output_type": "stream",
          "text": [
            "12\n"
          ],
          "name": "stdout"
        }
      ]
    },
    {
      "cell_type": "code",
      "metadata": {
        "id": "CwtdNMoX1zGG",
        "colab_type": "code",
        "colab": {}
      },
      "source": [
        ""
      ],
      "execution_count": null,
      "outputs": []
    }
  ]
}